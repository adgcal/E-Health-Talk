{
  "nbformat": 4,
  "nbformat_minor": 0,
  "metadata": {
    "celltoolbar": "Slideshow",
    "colab": {
      "name": "Mytalk.ipynb",
      "provenance": [],
      "collapsed_sections": [],
      "include_colab_link": true
    },
    "kernelspec": {
      "display_name": "Python 3",
      "language": "python",
      "name": "python3"
    },
    "language_info": {
      "codemirror_mode": {
        "name": "ipython",
        "version": 3
      },
      "file_extension": ".py",
      "mimetype": "text/x-python",
      "name": "python",
      "nbconvert_exporter": "python",
      "pygments_lexer": "ipython3",
      "version": "3.7.4"
    }
  },
  "cells": [
    {
      "cell_type": "markdown",
      "metadata": {
        "id": "view-in-github",
        "colab_type": "text"
      },
      "source": [
        "<a href=\"https://colab.research.google.com/github/adgcal/Presentations/blob/master/Mytalk.ipynb\" target=\"_parent\"><img src=\"https://colab.research.google.com/assets/colab-badge.svg\" alt=\"Open In Colab\"/></a>"
      ]
    },
    {
      "cell_type": "code",
      "metadata": {
        "cell_style": "center",
        "id": "JnORN7nLjWr9",
        "colab_type": "code",
        "colab": {}
      },
      "source": [
        "def hide_code_in_slideshow():   \n",
        "    from IPython import display\n",
        "    import binascii\n",
        "    import os\n",
        "    uid = binascii.hexlify(os.urandom(8)).decode()    \n",
        "    html = \"\"\"<div id=\"%s\"></div>\n",
        "    <script type=\"text/javascript\">\n",
        "        $(function(){\n",
        "            var p = $(\"#%s\");\n",
        "            if (p.length==0) return;\n",
        "            while (!p.hasClass(\"cell\")) {\n",
        "                p=p.parent();\n",
        "                if (p.prop(\"tagName\") ==\"body\") return;\n",
        "            }\n",
        "            var cell = p;\n",
        "            cell.find(\".input\").addClass(\"hide-in-slideshow\")\n",
        "        });\n",
        "    </script>\"\"\" % (uid, uid)\n",
        "    display.display_html(html, raw=True)\n"
      ],
      "execution_count": null,
      "outputs": []
    },
    {
      "cell_type": "markdown",
      "metadata": {
        "colab_type": "text",
        "id": "KIo-0qW7KrlV"
      },
      "source": [
        "from traitlets.config.manager import BaseJSONConfigManager\n",
        "from pathlib import Path\n",
        "path = Path.home() / \".jupyter\" / \"nbconfig\"\n",
        "cm = BaseJSONConfigManager(config_dir=str(path))\n",
        "cm.update(\n",
        "    \"rise\",\n",
        "    {\n",
        "        \"theme\": \"sky\",\n",
        "        \"transition\": \"zoom\",\n",
        "        \"start_slideshow_at\": \"selected\",\n",
        "        \"enable_chalkboard\": True\n",
        "     }\n",
        ")\n",
        "\n"
      ]
    },
    {
      "cell_type": "code",
      "metadata": {
        "id": "9_Kz1Mi1jWsK",
        "colab_type": "code",
        "colab": {},
        "outputId": "0c74fd92-0c08-4a23-c253-e579edc774f0"
      },
      "source": [
        "hide_code_in_slideshow()"
      ],
      "execution_count": null,
      "outputs": [
        {
          "output_type": "display_data",
          "data": {
            "text/html": [
              "<div id=\"877a23f30e611c88\"></div>\n",
              "    <script type=\"text/javascript\">\n",
              "        $(function(){\n",
              "            var p = $(\"#877a23f30e611c88\");\n",
              "            if (p.length==0) return;\n",
              "            while (!p.hasClass(\"cell\")) {\n",
              "                p=p.parent();\n",
              "                if (p.prop(\"tagName\") ==\"body\") return;\n",
              "            }\n",
              "            var cell = p;\n",
              "            cell.find(\".input\").addClass(\"hide-in-slideshow\")\n",
              "        });\n",
              "    </script>"
            ]
          },
          "metadata": {
            "tags": []
          }
        }
      ]
    },
    {
      "cell_type": "code",
      "metadata": {
        "colab_type": "code",
        "id": "EHusJrMrKrlY",
        "colab": {}
      },
      "source": [
        "{\n",
        " ...\n",
        " \"rise\": {\"width\": \"90%\",\n",
        "          \"height\": \"90%\"}\n",
        "}"
      ],
      "execution_count": null,
      "outputs": []
    },
    {
      "cell_type": "markdown",
      "metadata": {
        "cell_style": "center",
        "colab_type": "text",
        "id": "t-qh3YG1Krle"
      },
      "source": [
        "#### RESURRECTING THE EMERGING CONTOURS OF PUBLIC HEALTH IN ANTHROPOCENE: THE URGENCY OF DIGITAL HEALTH REVOLUTION"
      ]
    },
    {
      "cell_type": "markdown",
      "metadata": {
        "colab_type": "text",
        "id": "EvuM-lttKrlf"
      },
      "source": [
        "# A Conducted Data Tour \n",
        "## in the Health Domain\n"
      ]
    },
    {
      "cell_type": "markdown",
      "metadata": {
        "colab_type": "text",
        "id": "j0DWzdwAKrlf"
      },
      "source": [
        "### *Anjan Kr Dasgupta*\n",
        "#### adbioc@caluniv.ac.in"
      ]
    },
    {
      "cell_type": "markdown",
      "metadata": {
        "colab_type": "text",
        "id": "iXZHDS5SztTc"
      },
      "source": [
        "- The value of open innovation to solve a crisis\n",
        "- Unexpected lessons from an unprecedented crisis\n",
        "- How do we keep innovation projects going over distance and through a crisis?\n",
        "- The future of healthcare and medical tech\n"
      ]
    },
    {
      "cell_type": "markdown",
      "metadata": {
        "id": "PltdmedLjWsZ",
        "colab_type": "text"
      },
      "source": [
        "- How can health rearchitect themselves to be more crisis-proof?\n",
        "- How will medical care approach risk as the pandemic settles down?\n",
        "- Smart biomedical investment strategies during the Coronavirus pandemic\n",
        "- What priorities must change, and what must stay the same."
      ]
    },
    {
      "cell_type": "markdown",
      "metadata": {
        "colab_type": "text",
        "id": "wo8Z8KIfKrlg"
      },
      "source": [
        "# E-Words \n"
      ]
    },
    {
      "cell_type": "markdown",
      "metadata": {
        "colab_type": "text",
        "id": "kXEn2x2f1QJX"
      },
      "source": [
        "\n",
        "-----------------------------------------\n",
        "|Before 1999| After 2000 |\n",
        "------------------   | ------------------\n",
        "|e-commerce |e-health |\n",
        "|e-business|e-business|\n",
        "|e-solutions|e-agriculture|\n",
        "\n"
      ]
    },
    {
      "cell_type": "markdown",
      "metadata": {
        "colab_type": "text",
        "id": "SjnVST_vKrlh"
      },
      "source": [
        "## Components of e-health \n",
        "- Telemedicine \n",
        "- Health Informatics \n",
        "- MHealth\n",
        "- Evidence Based Medicine "
      ]
    },
    {
      "cell_type": "markdown",
      "metadata": {
        "colab_type": "text",
        "id": "7nM9jzlU1QJc"
      },
      "source": [
        "# Telemedicine\n",
        "- Capture readings from medical devices at a faraway location. \n",
        "- Patients can consult a physician at the comfort of their home\n",
        "- <https://www.healthline.com/health/best-telemedicine-companies>\n"
      ]
    },
    {
      "cell_type": "markdown",
      "metadata": {
        "id": "6z5J-GxwjWsc",
        "colab_type": "text"
      },
      "source": [
        "## Telemedicine Companies\n",
        "- US based \n",
        "    - Teladoc, MeMD, iCliniq Amwell,PlushCare,HealthTap, Takeaway ..\n",
        "- India based \n",
        "    - https://vhealth.io"
      ]
    },
    {
      "cell_type": "markdown",
      "metadata": {
        "colab_type": "text",
        "id": "LujV_13TKrli"
      },
      "source": [
        "# Health Informatics \n",
        "\n",
        "\n",
        "- Health informatics  uses ICT to organize and analyze health records to improve healthcare outcomes.  \n",
        "- <https://www.iihmrdelhi.edu.in/health-information-technology?gclid=CjwKCAjw8pH3BRAXEiwA1pvMsT10OtbAhawHxXu9ZLMGp2QFddVlIP9Bmm8xl4Ienzt0kBfRhAGpUxoCN1QQAvD_BwE>\n"
      ]
    },
    {
      "cell_type": "markdown",
      "metadata": {
        "colab_type": "text",
        "id": "TQkWEm4zKrlj"
      },
      "source": [
        "# MHealth (mobile health)\n",
        "\n",
        "- Refers to use of mobile communication devices, such as mobile phones,personal digital assistants (PDAs), and wearable devices such as smart watches, for health services.\n",
        "- <https://equityhealthj.biomedcentral.com/articles/10.1186/s12939-020-01175-7>\n"
      ]
    },
    {
      "cell_type": "markdown",
      "metadata": {
        "colab_type": "text",
        "id": "JZVMza6QKrlk"
      },
      "source": [
        "# Evidence Based Medicine \n",
        "- Evidence based medicine (EBM)  uses current DATA SCIENCE based approaches in decisions making particularly in the care of individual patients. \n",
        "- EBM integrates clinical experience and patient values with the best available research information.\n",
        "- <https://www.ncbi.nlm.nih.gov/pmc/articles/PMC3789163/#:~:text=Evidence%20based%20medicine%20(EBM)%20is,the%20best%20available%20research%20information.>\n",
        "\n"
      ]
    },
    {
      "cell_type": "markdown",
      "metadata": {
        "id": "j6K4ZCPgjWsf",
        "colab_type": "text"
      },
      "source": [
        "# Covid Associated  articles on telemedicine \n",
        "<http://doi.org/10.1089/tmj.2020.0099>\n",
        "\n",
        "-  <sub>New England Journal of Medicine $\\rightarrow $  Virtual Reality </sub>\n",
        "- <sub>Nature Medicine on March 27, 2020 $\\rightarrow $ Monitoring, surveillance, and detection </sub>"
      ]
    },
    {
      "cell_type": "markdown",
      "metadata": {
        "colab_type": "text",
        "id": "XWjEB5wJKrlk"
      },
      "source": [
        "## Trends"
      ]
    },
    {
      "cell_type": "markdown",
      "metadata": {
        "colab_type": "text",
        "id": "qKXqUFqCKrll"
      },
      "source": [
        "Let us use a library **gtrendsR**"
      ]
    },
    {
      "cell_type": "markdown",
      "metadata": {
        "colab_type": "text",
        "id": "V-0NPgMnKrll"
      },
      "source": [
        "![Comparative Synonymns](./images/000001.png)"
      ]
    },
    {
      "cell_type": "markdown",
      "metadata": {
        "colab_type": "text",
        "id": "uajHrYc-Krlm"
      },
      "source": [
        "### The trend line of the number of hits in \"telemedicine\" suddenly  shows a peak.\n",
        "#### If the month in which the shooting-up occurs provides some obvious solution."
      ]
    },
    {
      "cell_type": "markdown",
      "metadata": {
        "colab_type": "text",
        "id": "LIlJO-9QKrlm"
      },
      "source": [
        "## Now let us see another trend "
      ]
    },
    {
      "cell_type": "markdown",
      "metadata": {
        "colab_type": "text",
        "id": "RyrNo8PjKrln"
      },
      "source": [
        "![Complimentary Trends -WHY?](./images/000002.png)\n"
      ]
    },
    {
      "cell_type": "markdown",
      "metadata": {
        "id": "2gN0rUy5jWsk",
        "colab_type": "text"
      },
      "source": [
        "![](./images/telemedicine_covid.png)\n",
        "\n"
      ]
    },
    {
      "cell_type": "markdown",
      "metadata": {
        "colab_type": "text",
        "id": "XgkiJ_MgKrlo"
      },
      "source": [
        "## The e-health equation \n",
        "\n",
        "- EH=e-health\n",
        "- ICT= Information & Communication Technology(ICT)\n",
        "- DS = Data Science \n",
        "\n",
        "\\begin{equation}\n",
        "EH = ICT \\bigcup DS \n",
        "\\end{equation}"
      ]
    },
    {
      "cell_type": "markdown",
      "metadata": {
        "colab_type": "text",
        "id": "4aAJJC7B1QJm"
      },
      "source": [
        "# Moore's law in health care \n",
        "https://thehealthcareblog.com/blog/2014/04/23/moores-law-in-healthcare-three-predictio/\n"
      ]
    },
    {
      "cell_type": "markdown",
      "metadata": {
        "id": "73WrNBZwjWsn",
        "colab_type": "text"
      },
      "source": [
        "- Moore's Law states that the number of transistors on a microchip doubles about every two years, though the cost of computers is halved. \n",
        "- Kurzweil said, “The year 2029 is the consistent date I’ve predicted, when an artificial intelligence will pass a valid Turing test  — achieving human levels of intelligence.\" "
      ]
    },
    {
      "cell_type": "markdown",
      "metadata": {
        "colab_type": "text",
        "id": "tYkewccl1QJn"
      },
      "source": [
        "# Newton’s First Law \n",
        "- Applied to manufacturing and society\n",
        "- Things continue to advance unless it is hit by something like COVID\n",
        "\n"
      ]
    },
    {
      "cell_type": "markdown",
      "metadata": {
        "colab_type": "text",
        "id": "krkxZGvT1QJo"
      },
      "source": [
        "## Systems Dynamics Modelling (SDM) and Agent based Models (ABM) approaches in eHealth\n",
        "- <https://bmchealthservres.biomedcentral.com/articles/10.1186/s12913-019-4627-7>\n"
      ]
    },
    {
      "cell_type": "markdown",
      "metadata": {
        "id": "Z1WbZLa1jWsr",
        "colab_type": "text"
      },
      "source": [
        "## SDM simulates the movement of entities in a system\n",
        "- SDM - aggregate behaviour modelled\n",
        "- ABM is a ground-up representation of a system, simulating the changing states of individual ‘agents’ "
      ]
    },
    {
      "cell_type": "markdown",
      "metadata": {
        "colab_type": "text",
        "id": "5gQPY27mKrlo"
      },
      "source": [
        "## Data Data every where \n",
        "\n",
        "# <span style=\"color: red;\">*- Where is Model?*</span>\n",
        "\n",
        "### Why use SDM and ABM to model health systems?\n"
      ]
    },
    {
      "cell_type": "markdown",
      "metadata": {
        "colab_type": "text",
        "id": "Je0G0sV51QJp"
      },
      "source": [
        "- ABM is well-suited to explore systems with dynamic patient or health worker activity, a limitation of other differential equation or event-based simulation tools \n",
        "- SDM is best implemented where the aim of the simulation is to examine aggregate flows, trends and sub-system behaviour as opposed to intricate individual flows of activity\n",
        "\n",
        "\n"
      ]
    },
    {
      "cell_type": "markdown",
      "metadata": {
        "colab_type": "text",
        "id": "l1-HaloRKrlp"
      },
      "source": [
        "# Govt and Health Data \n",
        "- <https://www.medianama.com/2020/03/223-summary-india-telemedicine-guidelines/>\n",
        "\n",
        "- ICMR DataBase \n",
        "National Centre for Disease Informatics and Research\n",
        "- P: 080-22176400 E: ncdir@ncdirindia.org"
      ]
    },
    {
      "cell_type": "markdown",
      "metadata": {
        "colab_type": "text",
        "id": "A1fXWUSAKrlp"
      },
      "source": [
        "![](./images/000003.png)"
      ]
    },
    {
      "cell_type": "markdown",
      "metadata": {
        "colab_type": "text",
        "id": "h_eKCUU6Krlq"
      },
      "source": [
        "## Where is data ?\n"
      ]
    },
    {
      "cell_type": "markdown",
      "metadata": {
        "colab_type": "text",
        "id": "QOxH6ydBKrlr"
      },
      "source": [
        "# ![]( ./images/my_health_record.png)"
      ]
    },
    {
      "cell_type": "markdown",
      "metadata": {
        "colab_type": "text",
        "id": "3DEykWyPKrlt"
      },
      "source": [
        "# Nor any drop to drink"
      ]
    },
    {
      "cell_type": "markdown",
      "metadata": {
        "colab_type": "text",
        "id": "0vyG0tqpKrlu"
      },
      "source": [
        "![Guess the Native Dialogue](./images/sray.png){width=50%}"
      ]
    },
    {
      "cell_type": "markdown",
      "metadata": {
        "colab_type": "text",
        "id": "zaxKc03d1QJv"
      },
      "source": [
        "## The least e-Health can do \n",
        "### A quote from Nick Dawson\n",
        "https://thehealthcareblog.com/blog/2014/04/23/moores-law-in-healthcare-three-predictio/</p>\n"
      ]
    },
    {
      "cell_type": "markdown",
      "metadata": {
        "id": "s_2YioGujWsz",
        "colab_type": "text"
      },
      "source": [
        "'Aravind Eye Hospital in India does more eye surgeries than any other place in the world. It treats nearly 2 million patients a year, for remarkably less than most hospitals in the United States, and it treats nearly two-thirds of those patients for free. \"If my Yelp app on my iPhone tells me FedEx can get raw fish to Aspen, we can surely get the blind to India' - ND"
      ]
    },
    {
      "cell_type": "markdown",
      "metadata": {
        "colab_type": "text",
        "id": "o7uWJFVK1QJv"
      },
      "source": [
        "# Data driven discovery - Hidden agenda of e-health "
      ]
    },
    {
      "cell_type": "markdown",
      "metadata": {
        "colab_type": "text",
        "id": "PH1yTUeOKrlu"
      },
      "source": [
        "## Pulling COVID data \n",
        "- <https://adgcal.shinyapps.io/covid/>\n",
        "\n",
        "- library(COVID19)</p>\n"
      ]
    },
    {
      "cell_type": "markdown",
      "metadata": {
        "colab_type": "text",
        "id": "pvCcik54Krlv"
      },
      "source": [
        "![](./images/000004.jpeg)"
      ]
    },
    {
      "cell_type": "markdown",
      "metadata": {
        "colab_type": "text",
        "id": "DRdeyG0TKrlv"
      },
      "source": [
        "![](./images/000005.jpeg)"
      ]
    },
    {
      "cell_type": "markdown",
      "metadata": {
        "colab_type": "text",
        "id": "3LS72x-9Krlw"
      },
      "source": [
        "![](./images/000006.jpeg)"
      ]
    },
    {
      "cell_type": "markdown",
      "metadata": {
        "colab_type": "text",
        "id": "tdCkftGZKrlx"
      },
      "source": [
        "![](./images/mypolicy.png)"
      ]
    },
    {
      "cell_type": "markdown",
      "metadata": {
        "id": "U0jDJ3rxjWs6",
        "colab_type": "text"
      },
      "source": [
        "# Models\n",
        "https://cmg.cds.iisc.ac.in/covid/?fbclid=IwAR3P690x8mVGXZh3zL6RdCEoenrVdydUVihZ-lieCj3W79B6WhAbYdy44HM#home\n"
      ]
    },
    {
      "cell_type": "markdown",
      "metadata": {
        "colab_type": "text",
        "id": "da6rDthkKrl0"
      },
      "source": [
        "## SIR\n",
        "\n",
        "- <sub>S(t) are those susceptible but not yet infected with the disease;</sub>\n",
        "- <sub>I(t) is the number of infectious individuals;;</sub>\n",
        "- <sub>R(t) are those individuals who have recovered from the disease and now have immunity to it.;</sub>\n",
        "\n"
      ]
    },
    {
      "cell_type": "markdown",
      "metadata": {
        "colab_type": "text",
        "id": "baM9Llwx1QJz"
      },
      "source": [
        "<sub>The SIR model describes the change in the population of each of these compartments in terms of two parameters, $\\beta$ and $\\gamma$. $\\beta$ describes the effective contact rate of the disease; an infected individual comes into contact with $\\beta N$ other individuals per unit time (of which the fraction that are susceptible to contracting the disease is S/N. $\\gamma$ is the mean recovery rate: that is and $1/\\gamma$ is the mean period of time during which an infected individual can pass it on.\n",
        "The differential equations describing this model were first derived by Kermack and McKendrick [Proc. R. Soc. A, 115, 772 (1927)]</sub>"
      ]
    },
    {
      "cell_type": "markdown",
      "metadata": {
        "colab_type": "text",
        "id": "5K5xklr_Krl1"
      },
      "source": [
        "\\begin{align}\n",
        "  \\frac{dS}{dt}= −\\beta \\cdot S\\cdot I /N  \\\\\n",
        " \\frac{dI}{dt}=\\beta \\cdot S\\cdot I /N  −\\gamma I \\\\\n",
        "  \\frac{dR}{dt}= \\gamma I\n",
        " \\end{align}\n",
        " \n"
      ]
    },
    {
      "cell_type": "markdown",
      "metadata": {
        "id": "aAZre59hjWs9",
        "colab_type": "text"
      },
      "source": [
        " \n",
        " \\begin{align}\n",
        " S+I\\rightarrow 2I\\\\\n",
        " I\\rightarrow R\n",
        " \\end{align}\n",
        "\n"
      ]
    },
    {
      "cell_type": "code",
      "metadata": {
        "colab_type": "code",
        "id": "2Aiq573pL_YN",
        "colab": {}
      },
      "source": [
        "import numpy as np\n",
        "from scipy.integrate import odeint\n",
        "import matplotlib.pyplot as plt\n",
        "\n",
        "# Total population, N.\n",
        "N = 1000\n",
        "# Initial number of infected and recovered individuals, I0 and R0.\n",
        "I0, R0 = 1, 0\n",
        "# Everyone else, S0, is susceptible to infection initially.\n",
        "S0 = N - I0 - R0\n",
        "# Contact rate, beta, and mean recovery rate, gamma, (in 1/days).\n",
        "beta, gamma = 0.8, 1./10 \n",
        "# A grid of time points (in days)\n",
        "t = np.linspace(0, 160, 160)\n"
      ],
      "execution_count": null,
      "outputs": []
    },
    {
      "cell_type": "code",
      "metadata": {
        "colab_type": "code",
        "id": "eKZY71Oc1QJ3",
        "colab": {}
      },
      "source": [
        "# The SIR model differential equations.\n",
        "def deriv(y, t, N, beta, gamma):\n",
        "    S, I, R = y\n",
        "    dSdt = -beta * S * I / N\n",
        "    dIdt = beta * S * I / N - gamma * I\n",
        "    dRdt = gamma * I\n",
        "    return dSdt, dIdt, dRdt\n",
        "\n"
      ],
      "execution_count": null,
      "outputs": []
    },
    {
      "cell_type": "code",
      "metadata": {
        "colab_type": "code",
        "id": "UDnwykcx1QJ6",
        "colab": {}
      },
      "source": [
        "# Initial conditions vector\n",
        "y0 = S0, I0, R0\n",
        "# Integrate the SIR equations over the time grid, t.\n",
        "ret = odeint(deriv, y0, t, args=(N, beta, gamma))\n",
        "S, I, R = ret.T\n",
        "\n",
        "# Plot the data on three separate curves for S(t), I(t) and R(t)\n"
      ],
      "execution_count": null,
      "outputs": []
    },
    {
      "cell_type": "code",
      "metadata": {
        "colab_type": "code",
        "id": "MUF9isf61QJ9",
        "colab": {
          "base_uri": "https://localhost:8080/",
          "height": 280
        },
        "outputId": "841b680b-3156-4718-fe46-1d575bbf9667"
      },
      "source": [
        "fig = plt.figure(facecolor='w')\n",
        "ax = fig.add_subplot(111, facecolor='#dddddd', axisbelow=True)\n",
        "ax.plot(t, S/1000, 'b', alpha=0.5, lw=2, label='Susceptible')\n",
        "ax.plot(t, I/1000, 'r', alpha=0.5, lw=2, label='Infected')\n",
        "ax.plot(t, R/1000, 'g', alpha=0.5, lw=2, label='Recovered with immunity')\n",
        "ax.set_xlabel('Time /days')\n",
        "ax.set_ylabel('Number (1000s)')\n",
        "ax.set_ylim(0,1.2)\n",
        "ax.yaxis.set_tick_params(length=0)\n",
        "ax.xaxis.set_tick_params(length=0)\n",
        "ax.grid(b=True, which='major', c='w', lw=2, ls='-')\n",
        "legend = ax.legend()\n",
        "legend.get_frame().set_alpha(0.5)\n",
        "for spine in ('top', 'right', 'bottom', 'left'):\n",
        "    ax.spines[spine].set_visible(False)\n",
        "plt.show()"
      ],
      "execution_count": null,
      "outputs": [
        {
          "output_type": "display_data",
          "data": {
            "image/png": "[encoded data removed]",
            "text/plain": [
              "<Figure size 432x288 with 1 Axes>"
            ]
          },
          "metadata": {
            "tags": []
          }
        }
      ]
    },
    {
      "cell_type": "markdown",
      "metadata": {
        "colab_type": "text",
        "id": "RfJ5bqck1QKE"
      },
      "source": [
        "\n",
        "plt.plot(t,I)\n",
        "plt.xlabel('Time')\n",
        "plt.ylabel('Infected')\n",
        "plt.show()\n"
      ]
    },
    {
      "cell_type": "markdown",
      "metadata": {
        "colab_type": "text",
        "id": "MgQfoltV1QKE"
      },
      "source": [
        "## SEIR with vital dynamics\n",
        "As with the SIR model, enabling vital dynamics (births and deaths) can sustain an epidemic or allow new introductions to spread because new births provide more susceptible individuals. In a realistic population like this, disease dynamics will reach a steady state. Where $\\mu$ and $\\nu$ represent the birth and death rates, respectively, and are assumed to be equal to maintain a constant population, the ODE then becomes:"
      ]
    },
    {
      "cell_type": "markdown",
      "metadata": {
        "colab_type": "text",
        "id": "lM8yG8-D1QKF"
      },
      "source": [
        "\\begin{align}\n",
        "\\frac{dS}{dt} & = \\mu N - \\frac{\\beta S I}{N} + \\xi R- \\nu S\\\\\n",
        "\\frac{dE}{dt} & = \\frac{\\beta S I}{N} - \\sigma E - \\nu E\\\\\n",
        "\\frac{dI}{dt} & = \\sigma E - \\gamma I - \\nu I\\\\\n",
        "\\frac{dR}{dt} & = \\gamma I - \\xi R - \\nu R\n",
        "\\end{align}"
      ]
    },
    {
      "cell_type": "code",
      "metadata": {
        "colab_type": "code",
        "id": "bmbb-MpG1QKF",
        "colab": {}
      },
      "source": [
        "import numpy as np\n",
        "from scipy.integrate import odeint\n",
        "import matplotlib.pyplot as plt\n",
        "\n",
        "# Total population, N.\n",
        "N = 1000\n",
        "# Initial number of infected and recovered individuals, I0 and R0.\n",
        "I0, R0,E0 = 1,0,0\n",
        "# Everyone else, S0, is susceptible to infection initially.\n",
        "S0 = N - I0 - R0-E0\n",
        "# Contact rate, beta, and mean recovery rate, gamma, (in 1/days).\n",
        "mu,beta,zeta,nu=0.02,0.8,0.01,0.01\n",
        "sigma=0.9\n",
        "gamma=0.02\n",
        "t = np.linspace(0, 160, 1600)\n",
        "y0 = S0,E0, I0, R0\n"
      ],
      "execution_count": null,
      "outputs": []
    },
    {
      "cell_type": "code",
      "metadata": {
        "colab_type": "code",
        "id": "a2vc7_HW1QKI",
        "colab": {}
      },
      "source": [
        "# The SIR model differential equations.\n",
        "def deriv(y, t, N,mu,beta,zeta,nu,sigma,gamma):\n",
        "    S, E,I, R = y\n",
        "    dSdt = mu*N - beta*S*I/N + zeta*R -nu*S\n",
        "    dEdt= beta*S*I/N -sigma*E - nu*E \n",
        "    dIdt = sigma*E  - gamma * I - nu*I\n",
        "    dRdt = gamma * I -zeta *R - nu*R\n",
        "    return dSdt, dEdt, dIdt, dRdt\n",
        "\n"
      ],
      "execution_count": null,
      "outputs": []
    },
    {
      "cell_type": "code",
      "metadata": {
        "colab_type": "code",
        "id": "_G4jQ0Zy1QKL",
        "colab": {}
      },
      "source": [
        "# Initial conditions vector\n",
        "# Integrate the SIR equations over the time grid, t.\n",
        "ret = odeint(deriv, y0, t, args=(N, mu,beta,zeta,nu,sigma, gamma))\n",
        "S, E,I, R = ret.T"
      ],
      "execution_count": null,
      "outputs": []
    },
    {
      "cell_type": "code",
      "metadata": {
        "colab_type": "code",
        "id": "65-i50rK1QKQ",
        "colab": {
          "base_uri": "https://localhost:8080/",
          "height": 157
        },
        "outputId": "5b1c6103-41f8-4884-a571-b83a4aca68ae"
      },
      "source": [
        "plt.figure(figsize=(6,2))\n",
        "plt.plot(t,S/1000,'or',label='Sucep')\n",
        "plt.plot(t,E/1000,'^k',label='Exposed')\n",
        "plt.plot(t,I/1000,'sg',label='Infected')\n",
        "plt.plot(t,(1000-S-I-E)/1000,'<b',label='Recovered')\n",
        "plt.legend(bbox_to_anchor=(1.05, 0.75),\\\n",
        "  loc='upper left', borderaxespad=0.)\n",
        "plt.show()"
      ],
      "execution_count": null,
      "outputs": [
        {
          "output_type": "display_data",
          "data": {
            "image/png": "[encoded data removed]",
            "text/plain": [
              "<Figure size 432x144 with 1 Axes>"
            ]
          },
          "metadata": {
            "tags": [],
            "needs_background": "light"
          }
        }
      ]
    },
    {
      "cell_type": "markdown",
      "metadata": {
        "colab_type": "text",
        "id": "TmgcL-fk1QKV"
      },
      "source": [
        "## It may be noted that though  SIR model model is simplistic the pattern remains similar for complicated cases (Multi-city modeling of epidemics using spatial networks: Application to 2019-nCov (COVID-19) coronavirus in India< https://doi.org/10.1101/2020.03.13.20035386>)"
      ]
    },
    {
      "cell_type": "markdown",
      "metadata": {
        "colab_type": "text",
        "id": "I1vsrOi61QKV"
      },
      "source": [
        "![]( ./images/many_infec.png)\n"
      ]
    },
    {
      "cell_type": "markdown",
      "metadata": {
        "colab_type": "text",
        "id": "-apR7ACd1QKW"
      },
      "source": [
        "## Model of SIR in a connected network\n",
        "![](./images/SIR_ext.png)\n"
      ]
    },
    {
      "cell_type": "markdown",
      "metadata": {
        "colab_type": "text",
        "id": "_dJbysPa1QKX"
      },
      "source": [
        "# SYMPY model SIR \n",
        "<https://www.normalesup.org/~doulcier/teaching/modeling/excitable_systems.html>"
      ]
    },
    {
      "cell_type": "code",
      "metadata": {
        "colab_type": "code",
        "id": "oCK_-JcTKrl8",
        "colab": {}
      },
      "source": [
        "from sympy import *\n",
        "from sympy import lambdify\n",
        "import sympy \n",
        "sympy.init_printing()\n",
        "\n",
        "# Define variable as symbols for sympy\n",
        "S, I = sympy.symbols(\"S, I\")\n",
        "beta,N,gamma = sympy.symbols(\"beta,N,gamma\")\n",
        "\n",
        "# Symbolic expression of the system\n",
        "dSdt = -beta*S*I/N\n",
        "dIdt =beta*S*I/N + gamma*I\n",
        "\n",
        "# Symbolic expression of the matrix\n",
        "sys = sympy.Matrix([dSdt, dIdt])\n",
        "var = sympy.Matrix([S, I])\n",
        "jac = sys.jacobian(var)\n",
        "\n",
        "# You can convert jac to a function:\n",
        "#jacobian_cellular_switch = sympy.lambdify(((u,v,alpha,beta),), jac, 'numpy')\n",
        "\n"
      ],
      "execution_count": null,
      "outputs": []
    },
    {
      "cell_type": "code",
      "metadata": {
        "colab_type": "code",
        "id": "6O0ACIrIrUZc",
        "colab": {
          "base_uri": "https://localhost:8080/",
          "height": 61
        },
        "outputId": "988d4378-a851-44f0-ecc9-a46d315720f9"
      },
      "source": [
        "jac"
      ],
      "execution_count": null,
      "outputs": [
        {
          "output_type": "execute_result",
          "data": {
            "text/latex": "$$\\left[\\begin{matrix}- \\frac{I \\beta}{N} & - \\frac{S \\beta}{N}\\\\\\frac{I \\beta}{N} & \\gamma + \\frac{S \\beta}{N}\\end{matrix}\\right]$$",
            "text/plain": [
              "⎡-I⋅β    -S⋅β  ⎤\n",
              "⎢─────   ───── ⎥\n",
              "⎢  N       N   ⎥\n",
              "⎢              ⎥\n",
              "⎢ I⋅β       S⋅β⎥\n",
              "⎢ ───   γ + ───⎥\n",
              "⎣  N         N ⎦"
            ]
          },
          "metadata": {
            "tags": []
          },
          "execution_count": 37
        }
      ]
    },
    {
      "cell_type": "code",
      "metadata": {
        "colab_type": "code",
        "id": "SOMzGRgbr90i",
        "colab": {
          "base_uri": "https://localhost:8080/",
          "height": 91
        },
        "outputId": "6f76c839-5e0e-46ba-8bcf-9d5e11a3666e"
      },
      "source": [
        "je=jac.eigenvects()\n",
        "je"
      ],
      "execution_count": null,
      "outputs": [
        {
          "output_type": "execute_result",
          "data": {
            "text/latex": "$$\\left [ \\left ( - \\frac{1}{2 N} \\left(I \\beta - N \\gamma - S \\beta\\right) - \\frac{1}{2 N} \\sqrt{I^{2} \\beta^{2} + 2 I N \\beta \\gamma - 2 I S \\beta^{2} + N^{2} \\gamma^{2} + 2 N S \\beta \\gamma + S^{2} \\beta^{2}}, \\quad 1, \\quad \\left [ \\left[\\begin{matrix}\\frac{S \\beta}{N \\left(- \\frac{I \\beta}{N} + \\frac{1}{2 N} \\left(I \\beta - N \\gamma - S \\beta\\right) + \\frac{1}{2 N} \\sqrt{I^{2} \\beta^{2} + 2 I N \\beta \\gamma - 2 I S \\beta^{2} + N^{2} \\gamma^{2} + 2 N S \\beta \\gamma + S^{2} \\beta^{2}}\\right)}\\\\1\\end{matrix}\\right]\\right ]\\right ), \\quad \\left ( - \\frac{1}{2 N} \\left(I \\beta - N \\gamma - S \\beta\\right) + \\frac{1}{2 N} \\sqrt{I^{2} \\beta^{2} + 2 I N \\beta \\gamma - 2 I S \\beta^{2} + N^{2} \\gamma^{2} + 2 N S \\beta \\gamma + S^{2} \\beta^{2}}, \\quad 1, \\quad \\left [ \\left[\\begin{matrix}\\frac{S \\beta}{N \\left(- \\frac{I \\beta}{N} + \\frac{1}{2 N} \\left(I \\beta - N \\gamma - S \\beta\\right) - \\frac{1}{2 N} \\sqrt{I^{2} \\beta^{2} + 2 I N \\beta \\gamma - 2 I S \\beta^{2} + N^{2} \\gamma^{2} + 2 N S \\beta \\gamma + S^{2} \\beta^{2}}\\right)}\\\\1\\end{matrix}\\right]\\right ]\\right )\\right ]$$",
            "text/plain": [
              "⎡⎛                                                                            \n",
              "⎢⎜                       _____________________________________________________\n",
              "⎢⎜                      ╱  2  2                      2    2  2                \n",
              "⎢⎜  I⋅β - N⋅γ - S⋅β   ╲╱  I ⋅β  + 2⋅I⋅N⋅β⋅γ - 2⋅I⋅S⋅β  + N ⋅γ  + 2⋅N⋅S⋅β⋅γ + S\n",
              "⎢⎜- ─────────────── - ────────────────────────────────────────────────────────\n",
              "⎢⎜        2⋅N                                      2⋅N                        \n",
              "⎢⎜                                                                            \n",
              "⎢⎜                                                                            \n",
              "⎣⎝                                                                            \n",
              "\n",
              "          ⎡⎡                                            S⋅β                   \n",
              "_____     ⎢⎢──────────────────────────────────────────────────────────────────\n",
              "2  2      ⎢⎢  ⎛                             __________________________________\n",
              " ⋅β       ⎢⎢  ⎜                            ╱  2  2                      2    2\n",
              "─────, 1, ⎢⎢  ⎜  I⋅β   I⋅β - N⋅γ - S⋅β   ╲╱  I ⋅β  + 2⋅I⋅N⋅β⋅γ - 2⋅I⋅S⋅β  + N \n",
              "          ⎢⎢N⋅⎜- ─── + ─────────────── + ─────────────────────────────────────\n",
              "          ⎢⎢  ⎝   N          2⋅N                                      2⋅N     \n",
              "          ⎢⎢                                                                  \n",
              "          ⎣⎣                                             1                    \n",
              "\n",
              "                         ⎤⎤⎞  ⎛                                               \n",
              "─────────────────────────⎥⎥⎟  ⎜                       ________________________\n",
              "________________________⎞⎥⎥⎟  ⎜                      ╱  2  2                  \n",
              "  2                2  2 ⎟⎥⎥⎟  ⎜  I⋅β - N⋅γ - S⋅β   ╲╱  I ⋅β  + 2⋅I⋅N⋅β⋅γ - 2⋅I\n",
              "⋅γ  + 2⋅N⋅S⋅β⋅γ + S ⋅β  ⎟⎥⎥⎟, ⎜- ─────────────── + ───────────────────────────\n",
              "────────────────────────⎟⎥⎥⎟  ⎜        2⋅N                                    \n",
              "                        ⎠⎥⎥⎟  ⎜                                               \n",
              "                         ⎥⎥⎟  ⎜                                               \n",
              "                         ⎦⎦⎠  ⎝                                               \n",
              "\n",
              "                                       ⎡⎡                                     \n",
              "__________________________________     ⎢⎢─────────────────────────────────────\n",
              "    2    2  2                2  2      ⎢⎢  ⎛                             _____\n",
              "⋅S⋅β  + N ⋅γ  + 2⋅N⋅S⋅β⋅γ + S ⋅β       ⎢⎢  ⎜                            ╱  2  \n",
              "──────────────────────────────────, 1, ⎢⎢  ⎜  I⋅β   I⋅β - N⋅γ - S⋅β   ╲╱  I ⋅β\n",
              "  2⋅N                                  ⎢⎢N⋅⎜- ─── + ─────────────── - ────────\n",
              "                                       ⎢⎢  ⎝   N          2⋅N                 \n",
              "                                       ⎢⎢                                     \n",
              "                                       ⎣⎣                                     \n",
              "\n",
              "       S⋅β                                            ⎤⎤⎞⎤\n",
              "──────────────────────────────────────────────────────⎥⎥⎟⎥\n",
              "_____________________________________________________⎞⎥⎥⎟⎥\n",
              "2                      2    2  2                2  2 ⎟⎥⎥⎟⎥\n",
              "  + 2⋅I⋅N⋅β⋅γ - 2⋅I⋅S⋅β  + N ⋅γ  + 2⋅N⋅S⋅β⋅γ + S ⋅β  ⎟⎥⎥⎟⎥\n",
              "─────────────────────────────────────────────────────⎟⎥⎥⎟⎥\n",
              "                     2⋅N                             ⎠⎥⎥⎟⎥\n",
              "                                                      ⎥⎥⎟⎥\n",
              "        1                                             ⎦⎦⎠⎦"
            ]
          },
          "metadata": {
            "tags": []
          },
          "execution_count": 52
        }
      ]
    },
    {
      "cell_type": "code",
      "metadata": {
        "colab_type": "code",
        "id": "_e_4Qi7Xsw70",
        "colab": {
          "base_uri": "https://localhost:8080/",
          "height": 53
        },
        "outputId": "9502b519-d9bf-4314-ba8e-11f98d19b4e6"
      },
      "source": [
        "s_S = sympy.Eq(dSdt, 0)\n",
        "s_I = sympy.Eq(dIdt, 0)\n",
        "\n",
        "s_S_sol = sympy.solve(s_S, S)\n",
        "s_I_sol = sympy.solve(s_I,I)\n",
        "\n",
        "print('The steady state solution for the different populations  are:')\n",
        "s_S_sol,s_I_sol"
      ],
      "execution_count": null,
      "outputs": [
        {
          "output_type": "stream",
          "text": [
            "The steady state solution for the different populations  are:\n"
          ],
          "name": "stdout"
        },
        {
          "output_type": "execute_result",
          "data": {
            "image/png": "[encoded data removed]",
            "text/latex": "$$\\left ( \\left [ 0\\right ], \\quad \\left [ 0\\right ]\\right )$$",
            "text/plain": [
              "([0], [0])"
            ]
          },
          "metadata": {
            "tags": []
          },
          "execution_count": 11
        }
      ]
    },
    {
      "cell_type": "code",
      "metadata": {
        "colab_type": "code",
        "id": "wTqCTwKs1QKf",
        "colab": {
          "base_uri": "https://localhost:8080/",
          "height": 40
        },
        "outputId": "a0389c1f-0d78-420c-c326-2f08d00fc5ed"
      },
      "source": [
        "factor(jac.det())# Determinant o Jacobian =0 at the steady state (as roots are 0,0 and determinant is given by:"
      ],
      "execution_count": null,
      "outputs": [
        {
          "output_type": "execute_result",
          "data": {
            "image/png": "[encoded data removed]",
            "text/latex": "$$- \\frac{I \\beta}{N} \\gamma$$",
            "text/plain": [
              "-I⋅β⋅γ \n",
              "───────\n",
              "   N   "
            ]
          },
          "metadata": {
            "tags": []
          },
          "execution_count": 12
        }
      ]
    },
    {
      "cell_type": "code",
      "metadata": {
        "colab_type": "code",
        "id": "kCzURrAQ1QKl",
        "colab": {
          "base_uri": "https://localhost:8080/",
          "height": 40
        },
        "outputId": "60f2e3a2-40dd-4866-d299-b7317a8da938"
      },
      "source": [
        "jac.trace() # Trace of jacobian = gamma at steady state "
      ],
      "execution_count": null,
      "outputs": [
        {
          "output_type": "execute_result",
          "data": {
            "image/png": "[encoded data removed]",
            "text/latex": "$$- \\frac{I \\beta}{N} + \\gamma + \\frac{S \\beta}{N}$$",
            "text/plain": [
              "  I⋅β       S⋅β\n",
              "- ─── + γ + ───\n",
              "   N         N "
            ]
          },
          "metadata": {
            "tags": []
          },
          "execution_count": 13
        }
      ]
    },
    {
      "cell_type": "code",
      "metadata": {
        "colab_type": "code",
        "id": "gCgvT3VS1QKo",
        "colab": {
          "base_uri": "https://localhost:8080/",
          "height": 38
        },
        "outputId": "0702c24f-3aa5-4909-94ae-cbe314b8c31d"
      },
      "source": [
        "factor(jac.trace())"
      ],
      "execution_count": null,
      "outputs": [
        {
          "output_type": "execute_result",
          "data": {
            "image/png": "[encoded data removed]",
            "text/latex": "$$- \\frac{1}{N} \\left(I \\beta - N \\gamma - S \\beta\\right)$$",
            "text/plain": [
              "-(I⋅β - N⋅γ - S⋅β) \n",
              "───────────────────\n",
              "         N         "
            ]
          },
          "metadata": {
            "tags": []
          },
          "execution_count": 14
        }
      ]
    },
    {
      "cell_type": "code",
      "metadata": {
        "colab_type": "code",
        "id": "OKS4TW8m1QKr",
        "colab": {
          "base_uri": "https://localhost:8080/",
          "height": 38
        },
        "outputId": "8b52f597-38b7-4b53-cc7b-4b9d8bf502c6"
      },
      "source": [
        "factor(jac.trace()**2 - 4 * jac.det())"
      ],
      "execution_count": null,
      "outputs": [
        {
          "output_type": "execute_result",
          "data": {
            "image/png": "[encoded data removed]",
            "text/latex": "$$\\frac{1}{N^{2}} \\left(I^{2} \\beta^{2} + 2 I N \\beta \\gamma - 2 I S \\beta^{2} + N^{2} \\gamma^{2} + 2 N S \\beta \\gamma + S^{2} \\beta^{2}\\right)$$",
            "text/plain": [
              " 2  2                      2    2  2                2  2\n",
              "I ⋅β  + 2⋅I⋅N⋅β⋅γ - 2⋅I⋅S⋅β  + N ⋅γ  + 2⋅N⋅S⋅β⋅γ + S ⋅β \n",
              "────────────────────────────────────────────────────────\n",
              "                            2                           \n",
              "                           N                            "
            ]
          },
          "metadata": {
            "tags": []
          },
          "execution_count": 15
        }
      ]
    },
    {
      "cell_type": "code",
      "metadata": {
        "colab_type": "code",
        "id": "5xe723T-ssKp",
        "colab": {
          "base_uri": "https://localhost:8080/",
          "height": 37
        },
        "outputId": "e1935e27-942f-413a-e94c-738012a9645f"
      },
      "source": [
        "from sympy.abc import x\n",
        "from sympy.utilities.lambdify import lambdify, implemented_function\n",
        "f = implemented_function('f', lambda x: x+1)\n",
        "lam_f = lambdify(x, f(x))\n",
        "lam_f(4)\n"
      ],
      "execution_count": null,
      "outputs": [
        {
          "output_type": "execute_result",
          "data": {
            "image/png": "[encoded data removed]",
            "text/latex": "$$5$$",
            "text/plain": [
              "5"
            ]
          },
          "metadata": {
            "tags": []
          },
          "execution_count": 46
        }
      ]
    },
    {
      "cell_type": "code",
      "metadata": {
        "colab_type": "code",
        "id": "LQ1qvStWvXB_",
        "colab": {
          "base_uri": "https://localhost:8080/",
          "height": 33
        },
        "outputId": "397e128d-0c3d-485d-ac7f-265bff3a7323"
      },
      "source": [
        "from numpy import linalg as LA\n",
        "jacobian = sympy.lambdify(((S,I,N,beta,gamma),), jac, 'numpy')\n",
        "J=jacobian((0,0,10000,1,10))\n",
        "w, v = LA.eig(J)\n",
        "w\n"
      ],
      "execution_count": null,
      "outputs": [
        {
          "output_type": "execute_result",
          "data": {
            "text/plain": [
              "array([ 0., 10.])"
            ]
          },
          "metadata": {
            "tags": []
          },
          "execution_count": 67
        }
      ]
    },
    {
      "cell_type": "markdown",
      "metadata": {
        "colab_type": "text",
        "id": "i6OBluq2yGmf"
      },
      "source": [
        "# SIR - The eigen values are given by (0,$\\gamma$) - and not dependent on the Population"
      ]
    },
    {
      "cell_type": "markdown",
      "metadata": {
        "colab_type": "text",
        "id": "NkIPt_m_1QKw"
      },
      "source": [
        "If $\\tau$ is the trace and $\\Delta$ is the determinant of the Jacobian the eigen values will be :\n",
        "\\begin{align}\n",
        "\\lambda_1 =\\frac{\\tau+\\sqrt(\\tau^2-4\\Delta)}{2}\\\\\n",
        "\\lambda_2 =\\frac{\\tau-\\sqrt(\\tau^2-4\\Delta)}{2}\n",
        "\\end{align}"
      ]
    },
    {
      "cell_type": "markdown",
      "metadata": {
        "colab_type": "text",
        "id": "QEHTpINu1QLB"
      },
      "source": [
        "![](./images/stab_dia.png)"
      ]
    },
    {
      "cell_type": "markdown",
      "metadata": {
        "colab_type": "text",
        "id": "DgOqxJss1QLB"
      },
      "source": [
        "# SYMPY model SEIR "
      ]
    },
    {
      "cell_type": "code",
      "metadata": {
        "colab_type": "code",
        "id": "9BLY6kOH1QLD",
        "colab": {}
      },
      "source": [
        "from sympy import *\n",
        "from sympy import lambdify\n",
        "import sympy \n",
        "sympy.init_printing()\n",
        "\n",
        "# Define variable as symbols for sympy\n",
        "S,E,I,R= sympy.symbols(\"S,E,I,R\")\n",
        "N,mu,beta,zeta,nu,sigma,gamma=sympy.symbols(\"N,mu,beta,zeta,nu,sigma,gamma\")\n",
        "\n",
        "dSdt = mu*N - beta*S*I/N + zeta*R -nu*S\n",
        "dEdt= beta*S*I/N -sigma*E - nu*E \n",
        "dIdt = sigma*E  - gamma * I - nu*I\n",
        "dRdt = gamma * I -zeta *R - nu*R"
      ],
      "execution_count": null,
      "outputs": []
    },
    {
      "cell_type": "code",
      "metadata": {
        "colab_type": "code",
        "id": "DK-VSL3E1QLG",
        "colab": {}
      },
      "source": [
        "sys = sympy.Matrix([dSdt, dEdt,dIdt,dRdt])\n",
        "var = sympy.Matrix([S, E,I,R])\n",
        "jac = sys.jacobian(var)"
      ],
      "execution_count": null,
      "outputs": []
    },
    {
      "cell_type": "code",
      "metadata": {
        "colab_type": "code",
        "id": "mnDHX1nl1QLK",
        "colab": {
          "base_uri": "https://localhost:8080/",
          "height": 101
        },
        "outputId": "8b5f16ed-3f2e-4e88-91fb-a0cb0a669ee5"
      },
      "source": [
        "jac"
      ],
      "execution_count": null,
      "outputs": [
        {
          "output_type": "execute_result",
          "data": {
            "text/latex": "$$\\left[\\begin{matrix}- \\frac{I \\beta}{N} - \\nu & 0 & - \\frac{S \\beta}{N} & \\zeta\\\\\\frac{I \\beta}{N} & - \\nu - \\sigma & \\frac{S \\beta}{N} & 0\\\\0 & \\sigma & - \\gamma - \\nu & 0\\\\0 & 0 & \\gamma & - \\nu - \\zeta\\end{matrix}\\right]$$",
            "text/plain": [
              "⎡  I⋅β              -S⋅β          ⎤\n",
              "⎢- ─── - ν    0     ─────     ζ   ⎥\n",
              "⎢   N                 N           ⎥\n",
              "⎢                                 ⎥\n",
              "⎢   I⋅β              S⋅β          ⎥\n",
              "⎢   ───     -ν - σ   ───      0   ⎥\n",
              "⎢    N                N           ⎥\n",
              "⎢                                 ⎥\n",
              "⎢    0        σ     -γ - ν    0   ⎥\n",
              "⎢                                 ⎥\n",
              "⎣    0        0       γ     -ν - ζ⎦"
            ]
          },
          "metadata": {
            "tags": []
          },
          "execution_count": 18
        }
      ]
    },
    {
      "cell_type": "code",
      "metadata": {
        "colab_type": "code",
        "id": "O9gMXPyK1QLM",
        "colab": {
          "base_uri": "https://localhost:8080/",
          "height": 38
        },
        "outputId": "351fd8b9-27e9-4326-c578-025fc29b56ec"
      },
      "source": [
        "ss_S = sympy.Eq(dSdt, 0)\n",
        "ss_E = sympy.Eq(dEdt, 0)\n",
        "ss_I = sympy.Eq(dIdt, 0)\n",
        "ss_R = sympy.Eq(dRdt, 0)\n",
        "ss_S, ss_E,ss_I,ss_R\n"
      ],
      "execution_count": null,
      "outputs": [
        {
          "output_type": "execute_result",
          "data": {
            "image/png": "[encoded data removed]",
            "text/latex": "$$\\left ( - \\frac{I S}{N} \\beta + N \\mu + R \\zeta - S \\nu = 0, \\quad - E \\nu - E \\sigma + \\frac{I S}{N} \\beta = 0, \\quad E \\sigma - I \\gamma - I \\nu = 0, \\quad I \\gamma - R \\nu - R \\zeta = 0\\right )$$",
            "text/plain": [
              "⎛  I⋅S⋅β                                     I⋅S⋅β                            \n",
              "⎜- ───── + N⋅μ + R⋅ζ - S⋅ν = 0, -E⋅ν - E⋅σ + ───── = 0, E⋅σ - I⋅γ - I⋅ν = 0, I\n",
              "⎝    N                                         N                              \n",
              "\n",
              "                  ⎞\n",
              "⋅γ - R⋅ν - R⋅ζ = 0⎟\n",
              "                  ⎠"
            ]
          },
          "metadata": {
            "tags": []
          },
          "execution_count": 19
        }
      ]
    },
    {
      "cell_type": "code",
      "metadata": {
        "colab_type": "code",
        "id": "Po1uaue3hE4j",
        "colab": {
          "base_uri": "https://localhost:8080/",
          "height": 63
        },
        "outputId": "1e2fc310-b63a-4ef2-b240-65675620c802"
      },
      "source": [
        "ss_S_sol = sympy.solve(ss_S, S)\n",
        "\n",
        "ss_E_sol = sympy.solve(ss_E,E)\n",
        "\n",
        "ss_I_sol = sympy.solve(ss_I,I)\n",
        "\n",
        "ss_R_sol = sympy.solve(ss_R,R)\n",
        "\n",
        "print('The steady state solution for the different populations  are:')\n",
        "ss_S_sol, ss_E_sol,ss_I_sol,ss_R_sol"
      ],
      "execution_count": null,
      "outputs": [
        {
          "output_type": "stream",
          "text": [
            "The steady state solution for the different populations  are:\n"
          ],
          "name": "stdout"
        },
        {
          "output_type": "execute_result",
          "data": {
            "image/png": "[encoded data removed]",
            "text/latex": "$$\\left ( \\left [ \\frac{N \\left(N \\mu + R \\zeta\\right)}{I \\beta + N \\nu}\\right ], \\quad \\left [ \\frac{I S \\beta}{N \\left(\\nu + \\sigma\\right)}\\right ], \\quad \\left [ \\frac{E \\sigma}{\\gamma + \\nu}\\right ], \\quad \\left [ \\frac{I \\gamma}{\\nu + \\zeta}\\right ]\\right )$$",
            "text/plain": [
              "⎛⎡N⋅(N⋅μ + R⋅ζ)⎤  ⎡  I⋅S⋅β  ⎤  ⎡ E⋅σ ⎤  ⎡ I⋅γ ⎤⎞\n",
              "⎜⎢─────────────⎥, ⎢─────────⎥, ⎢─────⎥, ⎢─────⎥⎟\n",
              "⎝⎣  I⋅β + N⋅ν  ⎦  ⎣N⋅(ν + σ)⎦  ⎣γ + ν⎦  ⎣ν + ζ⎦⎠"
            ]
          },
          "metadata": {
            "tags": []
          },
          "execution_count": 20
        }
      ]
    },
    {
      "cell_type": "markdown",
      "metadata": {
        "colab_type": "text",
        "id": "dVUli1bMnham"
      },
      "source": [
        "https://www.normalesup.org/~doulcier/teaching/modeling/excitable_systems.html"
      ]
    },
    {
      "cell_type": "markdown",
      "metadata": {
        "colab_type": "text",
        "id": "q1WN6ueHnq_x"
      },
      "source": [
        "# Fitzhugh-Nagumo model: an excitable system\n",
        "The Fitzhugh-Nagumo model of an excitable system is a two-dimensional simplification of the Hodgkin-Huxley model of spike generation in squid giant axons.\n",
        "\\begin{align}\n",
        "\\frac{dv}{dt}=v−v^3−w+I_{ext}\\\\\n",
        "\\tau \\frac{dw}{dt}=v−a−bw\n",
        "\\end{align}\n",
        "\n",
        "\n"
      ]
    },
    {
      "cell_type": "code",
      "metadata": {
        "colab_type": "code",
        "id": "ue27X5yzpM1O",
        "colab": {}
      },
      "source": [
        "\n",
        "def fitzhugh_nagumo(x, t, a, b, tau, I):\n",
        "    \"\"\"Time derivative of the Fitzhugh-Nagumo neural model.\n",
        "    Args:\n",
        "       x (array size 2): [Membrane potential, Recovery variable]\n",
        "       a, b (float): Parameters.\n",
        "       tau (float): Time scale.\n",
        "       t (float): Time (Not used: autonomous system)\n",
        "       I (float): Constant stimulus current. \n",
        "    Return: dx/dt (array size 2)\n",
        "    \"\"\"\n",
        "    return np.array([x[0] - x[0]**3 - x[1] + I, \n",
        "                     (x[0] - a - b * x[1])/tau])"
      ],
      "execution_count": null,
      "outputs": []
    },
    {
      "cell_type": "code",
      "metadata": {
        "colab_type": "code",
        "id": "eqs-Tvdvqvgl",
        "colab": {}
      },
      "source": [
        "# Vector field \n",
        "#F(v,w)=[dv/dt(v,w),dw/dt(v,w)]\n",
        "\n",
        "def plot_vector_field(ax, param, xrange, yrange, steps=50):\n",
        "    # Compute the vector field\n",
        "    x = np.linspace(xrange[0], xrange[1], steps)\n",
        "    y = np.linspace(yrange[0], yrange[1], steps)\n",
        "    X,Y = np.meshgrid(x,y)\n",
        "    \n",
        "    dx,dy = fitzhugh_nagumo([X,Y],0,**param)   \n",
        "    \n",
        "    # streamplot is an alternative to quiver \n",
        "    # that looks nicer when your vector filed is\n",
        "    # continuous.\n",
        "    ax.streamplot(X,Y,dx, dy, color=(0,0,0,.1))\n",
        "    \n",
        "    ax.set(xlim=(xrange[0], xrange[1]), ylim=(yrange[0], yrange[1]))"
      ],
      "execution_count": null,
      "outputs": []
    },
    {
      "cell_type": "code",
      "metadata": {
        "colab_type": "code",
        "id": "lALfOC6HqNQ4",
        "colab": {}
      },
      "source": [
        "def plot_isocline(ax, a, b, tau, I, color='k', style='--', opacity=.5, vmin=-1,vmax=1):\n",
        "    \"\"\"Plot the null iscolines of the Fitzhugh nagumo system\"\"\"\n",
        "    v = np.linspace(vmin,vmax,100)\n",
        "    ax.plot(v, v - v**3 + I, style, color=color, alpha=opacity)\n",
        "    ax.plot(v, (v - a)/b, style, color=color, alpha=opacity)"
      ],
      "execution_count": null,
      "outputs": []
    },
    {
      "cell_type": "code",
      "metadata": {
        "colab_type": "code",
        "id": "uC3SdWp5qJvZ",
        "colab": {}
      },
      "source": [
        "scenarios = [\n",
        "     {\"a\":-.3, \"b\":1.4, \"tau\":20, \"I\":0},\n",
        "     {\"a\":-.3, \"b\":1.4, \"tau\":20, \"I\":0.23},\n",
        "     {\"a\":-.3, \"b\":1.4, \"tau\":20, \"I\":0.5}\n",
        "]\n",
        "time_span = np.linspace(0, 200, num=1500)"
      ],
      "execution_count": null,
      "outputs": []
    },
    {
      "cell_type": "code",
      "metadata": {
        "colab_type": "code",
        "id": "dGBhvsNzt293",
        "colab": {
          "base_uri": "https://localhost:8080/",
          "height": 57
        },
        "outputId": "e7ac0165-44a2-49a3-c0f1-a8402de421a6"
      },
      "source": [
        "def find_roots(a,b,I, tau):\n",
        "    # The coeficients of the polynomial equation are:\n",
        "    # 1           * v**3 \n",
        "    # 0           * v**2 \n",
        "    # - (1/b - 1) * v**1 \n",
        "    # - (a/b + I) * v**0\n",
        "    coef = [1, 0, 1/b - 1, - a/b - I]\n",
        "    \n",
        "    # We are only interested in real roots.\n",
        "    # np.isreal(x) returns True only if x is real. \n",
        "    # The following line filter the list returned by np.roots\n",
        "    # and only keep the real values. \n",
        "    roots = [np.real(r) for r in np.roots(coef) if np.isreal(r)]\n",
        "    \n",
        "    # We store the position of the equilibrium. \n",
        "    return [[r, r - r**3 + I] for r in roots]\n",
        "\n",
        "eqnproot = {}\n",
        "for i, param in enumerate(scenarios):\n",
        "    eqnproot[i] = find_roots(**param)\n",
        "eqnproot"
      ],
      "execution_count": null,
      "outputs": [
        {
          "output_type": "execute_result",
          "data": {
            "image/png": "[encoded data removed]",
            "text/latex": "$$\\left \\{ 0 : \\left [ \\left [ -0.7547409174415921, \\quad -0.3248149410297083\\right ]\\right ], \\quad 1 : \\left [ \\left [ 0.5601499772018519, \\quad 0.6143928408584656\\right ], \\quad \\left [ -0.5045483455831287, \\quad -0.14610596113080618\\right ], \\quad \\left [ -0.05560163161872317, \\quad 0.17457026312948348\\right ]\\right ], \\quad 2 : \\left [ \\left [ 0.8013957389076583, \\quad 0.7867112420768974\\right ]\\right ]\\right \\}$$",
            "text/plain": [
              "{0: [[-0.7547409174415921, -0.3248149410297083]], 1: [[0.5601499772018519, 0.6\n",
              "143928408584656], [-0.5045483455831287, -0.14610596113080618], [-0.05560163161\n",
              "872317, 0.17457026312948348]], 2: [[0.8013957389076583, 0.7867112420768974]]}"
            ]
          },
          "metadata": {
            "tags": []
          },
          "execution_count": 28
        }
      ]
    },
    {
      "cell_type": "code",
      "metadata": {
        "colab_type": "code",
        "id": "ILVlebXZp1A1",
        "colab": {
          "base_uri": "https://localhost:8080/",
          "height": 403
        },
        "outputId": "bb1b18a1-77ac-45b4-fbe3-dd614b353852"
      },
      "source": [
        "fig, ax = plt.subplots(1, 3, figsize=(18, 6))\n",
        "for i, sc in enumerate(scenarios):\n",
        "    plot_isocline(ax[i], **sc)\n",
        "    ax[i].set(xlabel='v', ylabel='w',title='{}'.format(sc))"
      ],
      "execution_count": null,
      "outputs": [
        {
          "output_type": "display_data",
          "data": {
            "image/png": "[encoded data removed]",
            "text/plain": [
              "<Figure size 1296x432 with 3 Axes>"
            ]
          },
          "metadata": {
            "tags": [],
            "needs_background": "light"
          }
        }
      ]
    },
    {
      "cell_type": "code",
      "metadata": {
        "colab_type": "code",
        "id": "yDvuLWyQsBT2",
        "colab": {
          "base_uri": "https://localhost:8080/",
          "height": 403
        },
        "outputId": "8ccac72d-a84a-4a45-9cce-66c2781f0e43"
      },
      "source": [
        "fig, ax = plt.subplots(1, 3, figsize=(20, 6))\n",
        "for i, sc in enumerate(scenarios):\n",
        "    xrange = (-1, 1)\n",
        "    yrange = [(1/sc['b'])*(x-sc['a']) for x in xrange]\n",
        "    plot_vector_field(ax[i], sc, xrange, yrange)\n",
        "    ax[i].set(xlabel='v', ylabel='w',\n",
        "          title='{}'.format(sc))"
      ],
      "execution_count": null,
      "outputs": [
        {
          "output_type": "display_data",
          "data": {
            "image/png": "[encoded data removed]",
            "text/plain": [
              "<Figure size 1440x432 with 3 Axes>"
            ]
          },
          "metadata": {
            "tags": [],
            "needs_background": "light"
          }
        }
      ]
    },
    {
      "cell_type": "code",
      "metadata": {
        "colab_type": "code",
        "id": "jrglzhtasiTF",
        "colab": {
          "base_uri": "https://localhost:8080/",
          "height": 58
        },
        "outputId": "65147107-7c96-40be-9dea-ec8a45be7158"
      },
      "source": [
        "import sympy \n",
        "sympy.init_printing()\n",
        "\n",
        "# Define variable as symbols for sympy\n",
        "v, w = sympy.symbols(\"v, w\")\n",
        "a, b, tau, I = sympy.symbols(\"a, b, tau, I\")\n",
        "\n",
        "# Symbolic expression of the system\n",
        "dvdt = v - v**3 - w + I\n",
        "dwdt = (v - a - b * w)/tau\n",
        "\n",
        "# Symbolic expression of the matrix\n",
        "sys = sympy.Matrix([dvdt, dwdt])\n",
        "var = sympy.Matrix([v, w])\n",
        "jac = sys.jacobian(var)\n",
        "\n",
        "# You can convert jac to a function:\n",
        "jacobian_fitznagumo_symbolic = sympy.lambdify((v, w, a, b, tau, I), jac, dummify=False)\n",
        "jac\n"
      ],
      "execution_count": null,
      "outputs": [
        {
          "output_type": "execute_result",
          "data": {
            "text/latex": "$$\\left[\\begin{matrix}- 3 v^{2} + 1 & -1\\\\\\frac{1}{\\tau} & - \\frac{b}{\\tau}\\end{matrix}\\right]$$",
            "text/plain": [
              "⎡     2         ⎤\n",
              "⎢- 3⋅v  + 1  -1 ⎥\n",
              "⎢               ⎥\n",
              "⎢    1       -b ⎥\n",
              "⎢    ─       ───⎥\n",
              "⎣    τ        τ ⎦"
            ]
          },
          "metadata": {
            "tags": []
          },
          "execution_count": 31
        }
      ]
    },
    {
      "cell_type": "code",
      "metadata": {
        "colab_type": "code",
        "id": "ck3K53cuxKzM",
        "colab": {
          "base_uri": "https://localhost:8080/",
          "height": 38
        },
        "outputId": "5b9db164-ffee-4bc2-8304-8f9c12734454"
      },
      "source": [
        "det(jac)"
      ],
      "execution_count": null,
      "outputs": [
        {
          "output_type": "execute_result",
          "data": {
            "image/png": "[encoded data removed]",
            "text/latex": "$$- \\frac{b}{\\tau} \\left(- 3 v^{2} + 1\\right) + \\frac{1}{\\tau}$$",
            "text/plain": [
              "    ⎛     2    ⎞    \n",
              "  b⋅⎝- 3⋅v  + 1⎠   1\n",
              "- ────────────── + ─\n",
              "        τ          τ"
            ]
          },
          "metadata": {
            "tags": []
          },
          "execution_count": 32
        }
      ]
    },
    {
      "cell_type": "code",
      "metadata": {
        "colab_type": "code",
        "id": "FiQMO5v9qeML",
        "colab": {
          "base_uri": "https://localhost:8080/",
          "height": 81
        },
        "outputId": "5a39c02f-e941-415c-8527-41adbfa5218f"
      },
      "source": [
        "factor(jac.eigenvects())"
      ],
      "execution_count": null,
      "outputs": [
        {
          "output_type": "execute_result",
          "data": {
            "text/latex": "$$\\left [ \\left ( - \\frac{1}{2 \\tau} \\left(b + 3 \\tau v^{2} - \\tau + \\sqrt{b^{2} - 6 b \\tau v^{2} + 2 b \\tau + 9 \\tau^{2} v^{4} - 6 \\tau^{2} v^{2} + \\tau^{2} - 4 \\tau}\\right), \\quad 1, \\quad \\left [ \\left[\\begin{matrix}- \\frac{2 \\tau}{- b + 3 \\tau v^{2} - \\tau - \\sqrt{b^{2} - 6 b \\tau v^{2} + 2 b \\tau + 9 \\tau^{2} v^{4} - 6 \\tau^{2} v^{2} + \\tau^{2} - 4 \\tau}}\\\\1\\end{matrix}\\right]\\right ]\\right ), \\quad \\left ( - \\frac{1}{2 \\tau} \\left(b + 3 \\tau v^{2} - \\tau - \\sqrt{b^{2} - 6 b \\tau v^{2} + 2 b \\tau + 9 \\tau^{2} v^{4} - 6 \\tau^{2} v^{2} + \\tau^{2} - 4 \\tau}\\right), \\quad 1, \\quad \\left [ \\left[\\begin{matrix}- \\frac{2 \\tau}{- b + 3 \\tau v^{2} - \\tau + \\sqrt{b^{2} - 6 b \\tau v^{2} + 2 b \\tau + 9 \\tau^{2} v^{4} - 6 \\tau^{2} v^{2} + \\tau^{2} - 4 \\tau}}\\\\1\\end{matrix}\\right]\\right ]\\right )\\right ]$$",
            "text/plain": [
              "⎡⎛ ⎛                    ______________________________________________________\n",
              "⎢⎜ ⎜         2         ╱  2          2              2  4      2  2    2       \n",
              "⎢⎜-⎝b + 3⋅τ⋅v  - τ + ╲╱  b  - 6⋅b⋅τ⋅v  + 2⋅b⋅τ + 9⋅τ ⋅v  - 6⋅τ ⋅v  + τ  - 4⋅τ \n",
              "⎢⎜────────────────────────────────────────────────────────────────────────────\n",
              "⎢⎜                                     2⋅τ                                    \n",
              "⎢⎜                                                                            \n",
              "⎣⎝                                                                            \n",
              "\n",
              "⎞      ⎡⎡                                   -2⋅τ                              \n",
              "⎟      ⎢⎢─────────────────────────────────────────────────────────────────────\n",
              "⎠      ⎢⎢                     ________________________________________________\n",
              "──, 1, ⎢⎢          2         ╱  2          2              2  4      2  2    2 \n",
              "       ⎢⎢-b + 3⋅τ⋅v  - τ - ╲╱  b  - 6⋅b⋅τ⋅v  + 2⋅b⋅τ + 9⋅τ ⋅v  - 6⋅τ ⋅v  + τ  \n",
              "       ⎢⎢                                                                     \n",
              "       ⎣⎣                                     1                               \n",
              "\n",
              "      ⎤⎤⎞  ⎛ ⎛                    ____________________________________________\n",
              "──────⎥⎥⎟  ⎜ ⎜         2         ╱  2          2              2  4      2  2  \n",
              "______⎥⎥⎟  ⎜-⎝b + 3⋅τ⋅v  - τ - ╲╱  b  - 6⋅b⋅τ⋅v  + 2⋅b⋅τ + 9⋅τ ⋅v  - 6⋅τ ⋅v  +\n",
              "      ⎥⎥⎟, ⎜──────────────────────────────────────────────────────────────────\n",
              "- 4⋅τ ⎥⎥⎟  ⎜                                     2⋅τ                          \n",
              "      ⎥⎥⎟  ⎜                                                                  \n",
              "      ⎦⎦⎠  ⎝                                                                  \n",
              "\n",
              "__________⎞      ⎡⎡                                   -2⋅τ                    \n",
              "  2       ⎟      ⎢⎢───────────────────────────────────────────────────────────\n",
              " τ  - 4⋅τ ⎠      ⎢⎢                     ______________________________________\n",
              "────────────, 1, ⎢⎢          2         ╱  2          2              2  4      \n",
              "                 ⎢⎢-b + 3⋅τ⋅v  - τ + ╲╱  b  - 6⋅b⋅τ⋅v  + 2⋅b⋅τ + 9⋅τ ⋅v  - 6⋅τ\n",
              "                 ⎢⎢                                                           \n",
              "                 ⎣⎣                                     1                     \n",
              "\n",
              "                ⎤⎤⎞⎤\n",
              "────────────────⎥⎥⎟⎥\n",
              "________________⎥⎥⎟⎥\n",
              "2  2    2       ⎥⎥⎟⎥\n",
              " ⋅v  + τ  - 4⋅τ ⎥⎥⎟⎥\n",
              "                ⎥⎥⎟⎥\n",
              "                ⎦⎦⎠⎦"
            ]
          },
          "metadata": {
            "tags": []
          },
          "execution_count": 34
        }
      ]
    },
    {
      "cell_type": "markdown",
      "metadata": {
        "colab_type": "text",
        "id": "-6OB6Oct1QLU"
      },
      "source": [
        "# Book Suggestion \n",
        "Modeling Infectious Diseases in Humans and Animals\n",
        "Matt J. Keeling and Pejman Rohani,Princeton,2008\n"
      ]
    },
    {
      "cell_type": "markdown",
      "metadata": {
        "colab_type": "text",
        "id": "juHfLqJoKrl3"
      },
      "source": [
        "## An Appeal to everyone\n",
        "- Wherever you are \n",
        "- Whenever you can \n",
        "- Whatever be the means (IoT or Benchtop) \n",
        "- Plz collect Data \n",
        "    - Image \n",
        "    - Signal \n",
        "    - records"
      ]
    },
    {
      "cell_type": "code",
      "metadata": {
        "colab_type": "code",
        "id": "9XZpqKhR1QLj",
        "colab": {}
      },
      "source": [
        "# A Glimpse of Heart\n",
        "\n",
        "## Some Interesting sites \n",
        "<https://www.physionet.org/content/mitdb/1.0.0/>\n",
        "\n",
        "<https://www.kaggle.com/shayanfazeli/heartbeat>\n",
        "\n",
        "<<https://www.kaggle.com/coni57/model-from-arxiv-1805-00794>"
      ],
      "execution_count": null,
      "outputs": []
    },
    {
      "cell_type": "markdown",
      "metadata": {
        "id": "TBtgzBVZjWwR",
        "colab_type": "text"
      },
      "source": [
        "## A brief description of data \n",
        "- ECG heartbeat dataset which is pre-classified into normal and abnormal\n",
        "- Can be subjeted to **machine language** based classification \n",
        "\n"
      ]
    },
    {
      "cell_type": "markdown",
      "metadata": {
        "id": "mtbJB7EujWwS",
        "colab_type": "text"
      },
      "source": [
        "# Digitization of ECG Signal  \n",
        "\n"
      ]
    },
    {
      "cell_type": "markdown",
      "metadata": {
        "id": "zNnFYl7yjWwU",
        "colab_type": "text"
      },
      "source": [
        "- <sub>Researchers want to analyze the actual value of signals, i.e., the value of this ECG signal in milivolts. </sub>\n",
        "- <sub>But to process information using computers, they must collect the signals via some capturing device which discretely samples, and digitizes the signals into $2^N$ levels, where N is the resolution of the device. </sub>\n",
        "- <sub> Each sample captured requires N bits to store, and takes one of 2^N possible integer values. - There is also information stored which allows the user/program to map these integers back to the physical values the device managed to capture given its resolution. </sub>\n",
        "- <sub>For example if they have a 12 bit oscilloscope, they have 4096 levels to capture the range and details of the signal.</sub>\n",
        "- <sub>A higher N allows us to resolve finer details, but requires more storage space per sample.</sub>"
      ]
    },
    {
      "cell_type": "markdown",
      "metadata": {
        "id": "A1Nw6jRrjWwV",
        "colab_type": "text"
      },
      "source": [
        "# PhysioNet \n",
        "- For e-health  this is what NCBI is to *Bioinformatics*.This is supported by the **National Institute of General Medical Sciences (NIGMS) and the National Institute of Biomedical Imaging and Bioengineering (NIBIB)** under NIH grant number 2R01GM104987-09.\n",
        "- The following site provides deeper insights into the data format used in physionet"
      ]
    },
    {
      "cell_type": "markdown",
      "metadata": {
        "id": "s2uV1QtrjWwW",
        "colab_type": "text"
      },
      "source": [
        "<http://archive.physionet.org/faq.shtml#physiobank-formats>"
      ]
    },
    {
      "cell_type": "markdown",
      "metadata": {
        "id": "ZQmFmplVjWwX",
        "colab_type": "text"
      },
      "source": [
        "## Overview of Physionet \n",
        "- <sub> Clinical Databases: Data from critical care clinical settings </sub>\n",
        "- <sub>Waveform Databases: High resolution continuous recordings of physiological signals</sub>\n",
        "- <sub>Waveform databases are organized according to their signal and annotation types.</sub>\n",
        "- <sub>Multi-Parameter Databases: Available signals vary, but may include ECG, continuous invasive blood pressure, respiration, oxygen saturation, and EEG, among others.</sub>\n",
        "\n"
      ]
    },
    {
      "cell_type": "markdown",
      "metadata": {
        "id": "Slf8NwvujWwX",
        "colab_type": "text"
      },
      "source": [
        "- Physionet provides the **WFDB software package** highly useful for reading, writing, and processing the above described WFDB files.\n",
        "- The popular WFDB platforms are MATLAB & PYTHON"
      ]
    },
    {
      "cell_type": "markdown",
      "metadata": {
        "id": "joTsyGh2jWwY",
        "colab_type": "text"
      },
      "source": [
        "## MIT Format\n",
        "- <sub>MIT Signal files **(.dat)** are binary files containing samples of digitized signals. These store the waveforms, but they cannot be interpreted properly without their corresponding header files.</sub>\n",
        "- <sub> MIT Header files **(.hea)** are short text files that describe the contents of associated signal files.</sub>\n",
        "- <sub> Annotation files **(.atr)** . Thr filr record.dat may be accompanied with RECORDNAME.atr.</sub>"
      ]
    },
    {
      "cell_type": "markdown",
      "metadata": {
        "id": "qAi195IZjWwc",
        "colab_type": "text"
      },
      "source": [
        "## European Data Format (EDF)\n",
        "- <sub>EDF files contain digital signals stored in their standard international format.</sub>\n",
        "-  <sub>EDF files store their header information at the beginning of the file, as opposed to MIT format which has a separate header file.</sub>\n",
        "-  <sub>EDF is a WFDB and PhysioBank-compatible format. </sub>\n",
        "-  <sub>If a directory contains RECORDNAME.edf and RECORDNAME.edf.qrs, the .qrs file is the annotation file associated with the record.</sub>\n",
        "\n",
        "\n"
      ]
    },
    {
      "cell_type": "markdown",
      "metadata": {
        "id": "snu4ZxYRjWwf",
        "colab_type": "text"
      },
      "source": [
        "http://archive.physionet.org/faq.shtml#physiobank-formats"
      ]
    },
    {
      "cell_type": "markdown",
      "metadata": {
        "id": "ryKAC27MjWwh",
        "colab_type": "text"
      },
      "source": [
        " ![](./images/physiobank.png)"
      ]
    },
    {
      "cell_type": "markdown",
      "metadata": {
        "id": "tarMqVKyjWwk",
        "colab_type": "text"
      },
      "source": [
        "<https://physionet.org/lightwave/?db=mitdb/1.0.0>\n"
      ]
    },
    {
      "cell_type": "markdown",
      "metadata": {
        "id": "ybCAk-KDjWwl",
        "colab_type": "text"
      },
      "source": [
        "# ECG digitization - A success story "
      ]
    },
    {
      "cell_type": "markdown",
      "metadata": {
        "id": "WNtS4oB9jWwm",
        "colab_type": "text"
      },
      "source": [
        "# All may not be well for AI \n",
        "\n"
      ]
    },
    {
      "cell_type": "markdown",
      "metadata": {
        "id": "cVMwvpohjWwp",
        "colab_type": "text"
      },
      "source": [
        "![](./images/pacemaker0.png)"
      ]
    },
    {
      "cell_type": "markdown",
      "metadata": {
        "id": "tmZl0f-OjWws",
        "colab_type": "text"
      },
      "source": [
        "# From heart to cybersecurity \n"
      ]
    },
    {
      "cell_type": "markdown",
      "metadata": {
        "id": "rhDcycghjWwt",
        "colab_type": "text"
      },
      "source": [
        "![](./images/pacemaker_attack.png)"
      ]
    },
    {
      "cell_type": "markdown",
      "metadata": {
        "id": "ELfQuP3PjWww",
        "colab_type": "text"
      },
      "source": [
        "# Can AI ever beat the doctors ?\n",
        "- <https://www.ncbi.nlm.nih.gov/pmc/articles/PMC6691444/>\n",
        "- <https://interestingengineering.com/these-7-ai-powered-doctor-phone-apps-could-be-the-future-of-healthcare>\n",
        "\n",
        "- <https://twitter.com/quicktake/status/1287672588332937224?s=12>\n"
      ]
    },
    {
      "cell_type": "markdown",
      "metadata": {
        "id": "PtS4uHqajWwx",
        "colab_type": "text"
      },
      "source": [
        "![](./images/thankyou.png)"
      ]
    }
  ]
}